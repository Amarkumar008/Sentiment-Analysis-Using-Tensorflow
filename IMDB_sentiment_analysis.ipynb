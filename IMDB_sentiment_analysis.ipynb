{
 "cells": [
  {
   "cell_type": "markdown",
   "metadata": {
    "id": "-hLdF1oit06A"
   },
   "source": [
    "# Sentiment analysis of IMDB reviews\n",
    "We will start by importing the necessary libraries"
   ]
  },
  {
   "cell_type": "code",
   "execution_count": 1,
   "metadata": {
    "id": "DzJqzHv-LceW"
   },
   "outputs": [],
   "source": [
    "\n",
    "import tensorflow as tf"
   ]
  },
  {
   "cell_type": "code",
   "execution_count": 2,
   "metadata": {
    "id": "54C8Oca0LlVR"
   },
   "outputs": [],
   "source": [
    "import tensorflow.keras as keras\n",
    "import numpy as np\n",
    "import pandas as pd\n",
    "import matplotlib.pyplot as plt\n"
   ]
  },
  {
   "cell_type": "markdown",
   "metadata": {
    "id": "npBPD8k_PwRJ"
   },
   "source": [
    "# Importing the data files\n",
    "After importing the necessary libraries now we will read the data files we have two data files here\n",
    "\n"
   ]
  },
  {
   "cell_type": "code",
   "execution_count": 3,
   "metadata": {
    "id": "eOvZ5uMyOtTF"
   },
   "outputs": [],
   "source": [
    "imdb_reviews=pd.read_csv(r\"C:\\Users\\HP-15\\Desktop\\Projects\\ML Deployment Projects\\Sentiment Analysis Using Tensorflow\\imdb_reviews.csv\")\n",
    "test_reviews=pd.read_csv(r\"C:\\Users\\HP-15\\Desktop\\Projects\\ML Deployment Projects\\Sentiment Analysis Using Tensorflow\\test_reviews.csv\")"
   ]
  },
  {
   "cell_type": "markdown",
   "metadata": {
    "id": "C4a_Zs-8WhcH"
   },
   "source": [
    "first data file contains the imdb reviews and their corresponding sentiments which can be either positive or negative, we are going to use this file as our training data."
   ]
  },
  {
   "cell_type": "code",
   "execution_count": 4,
   "metadata": {
    "colab": {
     "base_uri": "https://localhost:8080/",
     "height": 204
    },
    "id": "YI4qnZOTPFqx",
    "outputId": "5240acf8-e34a-4857-ad0f-5b72ed9ae3b7"
   },
   "outputs": [
    {
     "data": {
      "text/html": [
       "<div>\n",
       "<style scoped>\n",
       "    .dataframe tbody tr th:only-of-type {\n",
       "        vertical-align: middle;\n",
       "    }\n",
       "\n",
       "    .dataframe tbody tr th {\n",
       "        vertical-align: top;\n",
       "    }\n",
       "\n",
       "    .dataframe thead th {\n",
       "        text-align: right;\n",
       "    }\n",
       "</style>\n",
       "<table border=\"1\" class=\"dataframe\">\n",
       "  <thead>\n",
       "    <tr style=\"text-align: right;\">\n",
       "      <th></th>\n",
       "      <th>Reviews</th>\n",
       "      <th>Sentiment</th>\n",
       "    </tr>\n",
       "  </thead>\n",
       "  <tbody>\n",
       "    <tr>\n",
       "      <th>0</th>\n",
       "      <td>&lt;START this film was just brilliant casting lo...</td>\n",
       "      <td>positive</td>\n",
       "    </tr>\n",
       "    <tr>\n",
       "      <th>1</th>\n",
       "      <td>&lt;START big hair big boobs bad music and a gian...</td>\n",
       "      <td>negative</td>\n",
       "    </tr>\n",
       "    <tr>\n",
       "      <th>2</th>\n",
       "      <td>&lt;START this has to be one of the worst films o...</td>\n",
       "      <td>negative</td>\n",
       "    </tr>\n",
       "    <tr>\n",
       "      <th>3</th>\n",
       "      <td>&lt;START the &lt;UNK&gt; &lt;UNK&gt; at storytelling the tra...</td>\n",
       "      <td>positive</td>\n",
       "    </tr>\n",
       "    <tr>\n",
       "      <th>4</th>\n",
       "      <td>&lt;START worst mistake of my life br br i picked...</td>\n",
       "      <td>negative</td>\n",
       "    </tr>\n",
       "  </tbody>\n",
       "</table>\n",
       "</div>"
      ],
      "text/plain": [
       "                                             Reviews Sentiment\n",
       "0  <START this film was just brilliant casting lo...  positive\n",
       "1  <START big hair big boobs bad music and a gian...  negative\n",
       "2  <START this has to be one of the worst films o...  negative\n",
       "3  <START the <UNK> <UNK> at storytelling the tra...  positive\n",
       "4  <START worst mistake of my life br br i picked...  negative"
      ]
     },
     "execution_count": 4,
     "metadata": {},
     "output_type": "execute_result"
    }
   ],
   "source": [
    "imdb_reviews.head()"
   ]
  },
  {
   "cell_type": "markdown",
   "metadata": {
    "id": "2rNGROl5XYrL"
   },
   "source": [
    "the second file is also similar to the first file but we are going to use it as the test data."
   ]
  },
  {
   "cell_type": "code",
   "execution_count": 5,
   "metadata": {
    "colab": {
     "base_uri": "https://localhost:8080/",
     "height": 204
    },
    "id": "LGqg6S8OXVmV",
    "outputId": "4318016f-7ebd-4592-c630-2dbde76b80e8"
   },
   "outputs": [
    {
     "data": {
      "text/html": [
       "<div>\n",
       "<style scoped>\n",
       "    .dataframe tbody tr th:only-of-type {\n",
       "        vertical-align: middle;\n",
       "    }\n",
       "\n",
       "    .dataframe tbody tr th {\n",
       "        vertical-align: top;\n",
       "    }\n",
       "\n",
       "    .dataframe thead th {\n",
       "        text-align: right;\n",
       "    }\n",
       "</style>\n",
       "<table border=\"1\" class=\"dataframe\">\n",
       "  <thead>\n",
       "    <tr style=\"text-align: right;\">\n",
       "      <th></th>\n",
       "      <th>Reviews</th>\n",
       "      <th>Sentiment</th>\n",
       "    </tr>\n",
       "  </thead>\n",
       "  <tbody>\n",
       "    <tr>\n",
       "      <th>0</th>\n",
       "      <td>&lt;START please give this one a miss br br &lt;UNK&gt;...</td>\n",
       "      <td>negative</td>\n",
       "    </tr>\n",
       "    <tr>\n",
       "      <th>1</th>\n",
       "      <td>&lt;START this film requires a lot of patience be...</td>\n",
       "      <td>positive</td>\n",
       "    </tr>\n",
       "    <tr>\n",
       "      <th>2</th>\n",
       "      <td>&lt;START many animation buffs consider &lt;UNK&gt; &lt;UN...</td>\n",
       "      <td>positive</td>\n",
       "    </tr>\n",
       "    <tr>\n",
       "      <th>3</th>\n",
       "      <td>&lt;START i generally love this type of movie how...</td>\n",
       "      <td>negative</td>\n",
       "    </tr>\n",
       "    <tr>\n",
       "      <th>4</th>\n",
       "      <td>&lt;START like some other people wrote i'm a die ...</td>\n",
       "      <td>positive</td>\n",
       "    </tr>\n",
       "  </tbody>\n",
       "</table>\n",
       "</div>"
      ],
      "text/plain": [
       "                                             Reviews Sentiment\n",
       "0  <START please give this one a miss br br <UNK>...  negative\n",
       "1  <START this film requires a lot of patience be...  positive\n",
       "2  <START many animation buffs consider <UNK> <UN...  positive\n",
       "3  <START i generally love this type of movie how...  negative\n",
       "4  <START like some other people wrote i'm a die ...  positive"
      ]
     },
     "execution_count": 5,
     "metadata": {},
     "output_type": "execute_result"
    }
   ],
   "source": [
    "test_reviews.head()"
   ]
  },
  {
   "cell_type": "markdown",
   "metadata": {
    "id": "cOfnoRhGXogV"
   },
   "source": [
    "# Preprocessing the data\n",
    "We can not pass the string data to our model directly, so we need to transform the string data into integer format.For this we can map each distinct word as a distinct integer for eg.{'this':14 , 'the':1}.We already have a file that contains the mapping from words to integers so we are going to load that file.\n"
   ]
  },
  {
   "cell_type": "code",
   "execution_count": 6,
   "metadata": {
    "id": "uf5XTq_hAxL6"
   },
   "outputs": [],
   "source": [
    "word_index=pd.read_csv(r\"C:\\Users\\HP-15\\Desktop\\Projects\\ML Deployment Projects\\Sentiment Analysis Using Tensorflow\\word_indexes.csv\")"
   ]
  },
  {
   "cell_type": "markdown",
   "metadata": {
    "id": "dE47q3yibEIM"
   },
   "source": [
    "The word index file contains mapping from words to integers."
   ]
  },
  {
   "cell_type": "code",
   "execution_count": 7,
   "metadata": {
    "colab": {
     "base_uri": "https://localhost:8080/",
     "height": 204
    },
    "id": "AbkABN8jA_Ye",
    "outputId": "9e7ba619-7176-4e44-e0a7-155ca10ed731"
   },
   "outputs": [
    {
     "data": {
      "text/html": [
       "<div>\n",
       "<style scoped>\n",
       "    .dataframe tbody tr th:only-of-type {\n",
       "        vertical-align: middle;\n",
       "    }\n",
       "\n",
       "    .dataframe tbody tr th {\n",
       "        vertical-align: top;\n",
       "    }\n",
       "\n",
       "    .dataframe thead th {\n",
       "        text-align: right;\n",
       "    }\n",
       "</style>\n",
       "<table border=\"1\" class=\"dataframe\">\n",
       "  <thead>\n",
       "    <tr style=\"text-align: right;\">\n",
       "      <th></th>\n",
       "      <th>Words</th>\n",
       "      <th>Indexes</th>\n",
       "    </tr>\n",
       "  </thead>\n",
       "  <tbody>\n",
       "    <tr>\n",
       "      <th>0</th>\n",
       "      <td>tsukino</td>\n",
       "      <td>52009</td>\n",
       "    </tr>\n",
       "    <tr>\n",
       "      <th>1</th>\n",
       "      <td>nunnery</td>\n",
       "      <td>52010</td>\n",
       "    </tr>\n",
       "    <tr>\n",
       "      <th>2</th>\n",
       "      <td>sonja</td>\n",
       "      <td>16819</td>\n",
       "    </tr>\n",
       "    <tr>\n",
       "      <th>3</th>\n",
       "      <td>vani</td>\n",
       "      <td>63954</td>\n",
       "    </tr>\n",
       "    <tr>\n",
       "      <th>4</th>\n",
       "      <td>woods</td>\n",
       "      <td>1411</td>\n",
       "    </tr>\n",
       "  </tbody>\n",
       "</table>\n",
       "</div>"
      ],
      "text/plain": [
       "     Words  Indexes\n",
       "0  tsukino    52009\n",
       "1  nunnery    52010\n",
       "2    sonja    16819\n",
       "3     vani    63954\n",
       "4    woods     1411"
      ]
     },
     "execution_count": 7,
     "metadata": {},
     "output_type": "execute_result"
    }
   ],
   "source": [
    "word_index.head()"
   ]
  },
  {
   "cell_type": "markdown",
   "metadata": {
    "id": "QZYF6pDzbNCe"
   },
   "source": [
    "Next we are going to convert the word_index dataframe into a python dictionary so that we can use it for converting our reviews from string to integer format."
   ]
  },
  {
   "cell_type": "code",
   "execution_count": 8,
   "metadata": {
    "id": "zuiMcF5XD65R"
   },
   "outputs": [],
   "source": [
    "word_index=dict(zip(word_index.Words,word_index.Indexes))"
   ]
  },
  {
   "cell_type": "code",
   "execution_count": 9,
   "metadata": {
    "id": "FsScw2ilFqap"
   },
   "outputs": [],
   "source": [
    "word_index[\"<PAD>\"]=0\n",
    "word_index[\"<START\"]=1\n",
    "word_index[\"<UNK>\"]=2\n",
    "word_index[\"<UNUSED>\"]=3"
   ]
  },
  {
   "cell_type": "markdown",
   "metadata": {
    "id": "bVEL7jQ6bjbV"
   },
   "source": [
    "Now we define a function review_encoder that encodes the reviews into integer format according to the mapping specified by word_index file."
   ]
  },
  {
   "cell_type": "code",
   "execution_count": 10,
   "metadata": {
    "id": "nay4o8dSAqbu"
   },
   "outputs": [],
   "source": [
    "def review_encoder(text):\n",
    "  arr=[word_index[word] for word in text]\n",
    "  return arr"
   ]
  },
  {
   "cell_type": "markdown",
   "metadata": {
    "id": "d3mS11cVcGhU"
   },
   "source": [
    "We split the reviews from their corresponding sentiments so that we can preprocess the reviews and sentiments separately and then later pass it to our model."
   ]
  },
  {
   "cell_type": "code",
   "execution_count": 11,
   "metadata": {
    "id": "bUhde9eLE5H3"
   },
   "outputs": [],
   "source": [
    "train_data,train_labels=imdb_reviews['Reviews'],imdb_reviews['Sentiment']\n",
    "test_data, test_labels=test_reviews['Reviews'],test_reviews['Sentiment']"
   ]
  },
  {
   "cell_type": "markdown",
   "metadata": {
    "id": "jBWDVwCNdBJP"
   },
   "source": [
    "Before transforming the reviews as integers we need to tokenize or split the review on the basis of whitespaces\n",
    "For eg.the string \"The movie was wonderful\" becomes [\"The\" , \"movie\" , \"was\" , \"wonderful\" ]."
   ]
  },
  {
   "cell_type": "code",
   "execution_count": 12,
   "metadata": {
    "id": "frWCqvycL-w5"
   },
   "outputs": [],
   "source": [
    "train_data=train_data.apply(lambda review:review.split())\n",
    "test_data=test_data.apply(lambda review:review.split())"
   ]
  },
  {
   "cell_type": "markdown",
   "metadata": {
    "id": "8GCM_74ve7OZ"
   },
   "source": [
    "Since we have tokenized the reviews now we can apply the review_encoder function to each review and transform the reviews into integer format."
   ]
  },
  {
   "cell_type": "code",
   "execution_count": 13,
   "metadata": {
    "id": "wJLwZH1OMPJM"
   },
   "outputs": [],
   "source": [
    "train_data=train_data.apply(review_encoder)\n",
    "test_data=test_data.apply(review_encoder)"
   ]
  },
  {
   "cell_type": "markdown",
   "metadata": {
    "id": "q8kdTaoOfj8d"
   },
   "source": [
    "After transforming, our reviews are going to look like this."
   ]
  },
  {
   "cell_type": "code",
   "execution_count": 14,
   "metadata": {
    "colab": {
     "base_uri": "https://localhost:8080/"
    },
    "id": "Z3M_klO4MhFA",
    "outputId": "df45cc5c-eb63-4a45-c3d9-86550578669c"
   },
   "outputs": [
    {
     "data": {
      "text/plain": [
       "0    [1, 14, 22, 16, 43, 530, 973, 1622, 1385, 65, ...\n",
       "1    [1, 194, 1153, 194, 8255, 78, 228, 5, 6, 1463,...\n",
       "2    [1, 14, 47, 8, 30, 31, 7, 4, 249, 108, 7, 4, 5...\n",
       "3    [1, 4, 2, 2, 33, 2804, 4, 2040, 432, 111, 153,...\n",
       "4    [1, 249, 1323, 7, 61, 113, 10, 10, 13, 1637, 1...\n",
       "Name: Reviews, dtype: object"
      ]
     },
     "execution_count": 14,
     "metadata": {},
     "output_type": "execute_result"
    }
   ],
   "source": [
    "train_data.head()"
   ]
  },
  {
   "cell_type": "markdown",
   "metadata": {
    "id": "gEUf78Aif02A"
   },
   "source": [
    "We also need to encode the sentiments and we are labeling the positive sentiment as 1 and negative sentiment as 0."
   ]
  },
  {
   "cell_type": "code",
   "execution_count": 15,
   "metadata": {
    "id": "p01DiByEJ7fw"
   },
   "outputs": [],
   "source": [
    "def encode_sentiments(x):\n",
    "  if x=='positive':\n",
    "    return 1\n",
    "  else:\n",
    "    return 0\n",
    "\n",
    "train_labels=train_labels.apply(encode_sentiments)\n",
    "test_labels=test_labels.apply(encode_sentiments)"
   ]
  },
  {
   "cell_type": "markdown",
   "metadata": {
    "id": "bPOP1mPd1mrh"
   },
   "source": [
    "Before giving the review as an input to the model we need to perform following preprocessing steps:\n",
    "\n",
    " \n",
    "\n",
    "\n",
    "*   The length of each review should be made equal for the model to be working correctly.\n",
    "\n",
    "*  We have chosen the length of each review to be 500. \n",
    "*     If the review is longer than 500 words we are going to cut the extra part of the review.\n",
    "\n",
    "\n",
    "*       If the review is contains less than 500 words we are going to pad the review with zeros to increase its length to 500.\n",
    "\n",
    "\n",
    "\n",
    "\n",
    "\n",
    "\n",
    "\n",
    "\n",
    "\n",
    "\n",
    "\n",
    "\n",
    "\n",
    "\n",
    "\n",
    "\n",
    "\n",
    "\n",
    "\n",
    "\n",
    "\n"
   ]
  },
  {
   "cell_type": "code",
   "execution_count": 16,
   "metadata": {
    "id": "CHEVR3TbPE_1"
   },
   "outputs": [],
   "source": [
    "train_data=keras.preprocessing.sequence.pad_sequences(train_data,value=word_index[\"<PAD>\"],padding='post',maxlen=500)\n",
    "test_data=keras.preprocessing.sequence.pad_sequences(test_data,value=word_index[\"<PAD>\"],padding='post',maxlen=500)"
   ]
  },
  {
   "cell_type": "markdown",
   "metadata": {
    "id": "EjL1Q8kG2YXV"
   },
   "source": [
    "#Building the model\n",
    "Our model is a neural network and it consits of the following layers : \n",
    "\n",
    "1.   one word embedding layer which creates word embeddings of length 16 from integer encoded review.\n",
    "2.  second layer is global average pooling layer which is used to prevent overfitting by reducing the number of parameters.\n",
    "\n",
    "1.   then a dense layer which has 16 hidden units and uses relu as activation function\n",
    "2.  the final layer is the output layer which uses sigmoid as activation function \n",
    "\n",
    "\n"
   ]
  },
  {
   "cell_type": "code",
   "execution_count": 17,
   "metadata": {
    "id": "D1WDSfAIPs31"
   },
   "outputs": [],
   "source": [
    "model=keras.Sequential([keras.layers.Embedding(10000,16,input_length=500),\n",
    "                        keras.layers.GlobalAveragePooling1D(),\n",
    "                        keras.layers.Dense(16,activation='relu'),\n",
    "                        keras.layers.Dense(1,activation='sigmoid')])"
   ]
  },
  {
   "cell_type": "markdown",
   "metadata": {
    "id": "9pK_1v8v3hBZ"
   },
   "source": [
    "#compiling the model\n",
    "\n",
    "\n",
    "1.   Adam is used as optimization function for our model.\n",
    "2.   Binary cross entropy loss function is used as loss function for the model.\n",
    "\n",
    "1.   Accuracy is used as the metric for evaluating the model.\n",
    "\n",
    "\n",
    "\n"
   ]
  },
  {
   "cell_type": "code",
   "execution_count": 18,
   "metadata": {
    "id": "JPsQuds5QYud"
   },
   "outputs": [],
   "source": [
    "model.compile(optimizer='adam',loss='binary_crossentropy',metrics=['accuracy'])"
   ]
  },
  {
   "cell_type": "markdown",
   "metadata": {
    "id": "7wJsxdk24H_g"
   },
   "source": [
    "In the next step we are going to train the model on our downloaded IMDB dataset."
   ]
  },
  {
   "cell_type": "code",
   "execution_count": 19,
   "metadata": {
    "colab": {
     "base_uri": "https://localhost:8080/"
    },
    "id": "YxUCLcRJQmBB",
    "outputId": "5dff0e7b-4544-48ac-fb87-4108ab34552b"
   },
   "outputs": [
    {
     "name": "stdout",
     "output_type": "stream",
     "text": [
      "Epoch 1/30\n",
      "49/49 [==============================] - 7s 52ms/step - loss: 0.6923 - accuracy: 0.5850 - val_loss: 0.6909 - val_accuracy: 0.6522\n",
      "Epoch 2/30\n",
      "49/49 [==============================] - 2s 43ms/step - loss: 0.6875 - accuracy: 0.6258 - val_loss: 0.6837 - val_accuracy: 0.6008\n",
      "Epoch 3/30\n",
      "49/49 [==============================] - 2s 43ms/step - loss: 0.6741 - accuracy: 0.6973 - val_loss: 0.6646 - val_accuracy: 0.7519\n",
      "Epoch 4/30\n",
      "49/49 [==============================] - 2s 41ms/step - loss: 0.6454 - accuracy: 0.7574 - val_loss: 0.6306 - val_accuracy: 0.7500\n",
      "Epoch 5/30\n",
      "49/49 [==============================] - 2s 42ms/step - loss: 0.6002 - accuracy: 0.7894 - val_loss: 0.5827 - val_accuracy: 0.7895\n",
      "Epoch 6/30\n",
      "49/49 [==============================] - 2s 42ms/step - loss: 0.5447 - accuracy: 0.8150 - val_loss: 0.5306 - val_accuracy: 0.8118\n",
      "Epoch 7/30\n",
      "49/49 [==============================] - 2s 41ms/step - loss: 0.4877 - accuracy: 0.8377 - val_loss: 0.4812 - val_accuracy: 0.8308\n",
      "Epoch 8/30\n",
      "49/49 [==============================] - 2s 42ms/step - loss: 0.4365 - accuracy: 0.8571 - val_loss: 0.4393 - val_accuracy: 0.8428\n",
      "Epoch 9/30\n",
      "49/49 [==============================] - 2s 42ms/step - loss: 0.3940 - accuracy: 0.8692 - val_loss: 0.4062 - val_accuracy: 0.8533\n",
      "Epoch 10/30\n",
      "49/49 [==============================] - 2s 44ms/step - loss: 0.3601 - accuracy: 0.8789 - val_loss: 0.3808 - val_accuracy: 0.8603\n",
      "Epoch 11/30\n",
      "49/49 [==============================] - 2s 41ms/step - loss: 0.3333 - accuracy: 0.8853 - val_loss: 0.3617 - val_accuracy: 0.8641\n",
      "Epoch 12/30\n",
      "49/49 [==============================] - 2s 42ms/step - loss: 0.3112 - accuracy: 0.8928 - val_loss: 0.3457 - val_accuracy: 0.8687\n",
      "Epoch 13/30\n",
      "49/49 [==============================] - 2s 42ms/step - loss: 0.2930 - accuracy: 0.8995 - val_loss: 0.3344 - val_accuracy: 0.8709\n",
      "Epoch 14/30\n",
      "49/49 [==============================] - 2s 41ms/step - loss: 0.2773 - accuracy: 0.9034 - val_loss: 0.3246 - val_accuracy: 0.8734\n",
      "Epoch 15/30\n",
      "49/49 [==============================] - 2s 42ms/step - loss: 0.2644 - accuracy: 0.9074 - val_loss: 0.3181 - val_accuracy: 0.8742\n",
      "Epoch 16/30\n",
      "49/49 [==============================] - 2s 44ms/step - loss: 0.2528 - accuracy: 0.9111 - val_loss: 0.3092 - val_accuracy: 0.8787\n",
      "Epoch 17/30\n",
      "49/49 [==============================] - 2s 50ms/step - loss: 0.2420 - accuracy: 0.9160 - val_loss: 0.3040 - val_accuracy: 0.8807\n",
      "Epoch 18/30\n",
      "49/49 [==============================] - 2s 44ms/step - loss: 0.2321 - accuracy: 0.9200 - val_loss: 0.2994 - val_accuracy: 0.8820\n",
      "Epoch 19/30\n",
      "49/49 [==============================] - 2s 44ms/step - loss: 0.2232 - accuracy: 0.9227 - val_loss: 0.2960 - val_accuracy: 0.8832\n",
      "Epoch 20/30\n",
      "49/49 [==============================] - 2s 45ms/step - loss: 0.2151 - accuracy: 0.9256 - val_loss: 0.2936 - val_accuracy: 0.8835\n",
      "Epoch 21/30\n",
      "49/49 [==============================] - 2s 44ms/step - loss: 0.2082 - accuracy: 0.9278 - val_loss: 0.2908 - val_accuracy: 0.8847\n",
      "Epoch 22/30\n",
      "49/49 [==============================] - 2s 43ms/step - loss: 0.2008 - accuracy: 0.9308 - val_loss: 0.2913 - val_accuracy: 0.8842\n",
      "Epoch 23/30\n",
      "49/49 [==============================] - 2s 43ms/step - loss: 0.1948 - accuracy: 0.9324 - val_loss: 0.2879 - val_accuracy: 0.8855\n",
      "Epoch 24/30\n",
      "49/49 [==============================] - 2s 46ms/step - loss: 0.1892 - accuracy: 0.9343 - val_loss: 0.2877 - val_accuracy: 0.8858\n",
      "Epoch 25/30\n",
      "49/49 [==============================] - 2s 44ms/step - loss: 0.1830 - accuracy: 0.9370 - val_loss: 0.2854 - val_accuracy: 0.8855\n",
      "Epoch 26/30\n",
      "49/49 [==============================] - 2s 45ms/step - loss: 0.1779 - accuracy: 0.9394 - val_loss: 0.2858 - val_accuracy: 0.8861\n",
      "Epoch 27/30\n",
      "49/49 [==============================] - 2s 44ms/step - loss: 0.1725 - accuracy: 0.9420 - val_loss: 0.2856 - val_accuracy: 0.8858\n",
      "Epoch 28/30\n",
      "49/49 [==============================] - 2s 45ms/step - loss: 0.1682 - accuracy: 0.9435 - val_loss: 0.2897 - val_accuracy: 0.8854\n",
      "Epoch 29/30\n",
      "49/49 [==============================] - 2s 45ms/step - loss: 0.1645 - accuracy: 0.9444 - val_loss: 0.2870 - val_accuracy: 0.8865\n",
      "Epoch 30/30\n",
      "49/49 [==============================] - 2s 45ms/step - loss: 0.1589 - accuracy: 0.9471 - val_loss: 0.2885 - val_accuracy: 0.8861\n"
     ]
    }
   ],
   "source": [
    "#training the model\n",
    "history=model.fit(train_data,train_labels,epochs=30,batch_size=512,validation_data=(test_data,test_labels))"
   ]
  },
  {
   "cell_type": "markdown",
   "metadata": {
    "id": "3FQWLj-i4dEK"
   },
   "source": [
    "Now we will be evaluating the loss and accuracy of our model on testing data."
   ]
  },
  {
   "cell_type": "code",
   "execution_count": 20,
   "metadata": {
    "colab": {
     "base_uri": "https://localhost:8080/"
    },
    "id": "aHLzEJI-RCWF",
    "outputId": "7f3c84cf-fc02-4d9c-c25d-b8ca15b3e95a"
   },
   "outputs": [
    {
     "name": "stdout",
     "output_type": "stream",
     "text": [
      "782/782 [==============================] - 1s 2ms/step - loss: 0.2885 - accuracy: 0.8861\n"
     ]
    }
   ],
   "source": [
    "loss,accuracy=model.evaluate(test_data,test_labels)"
   ]
  },
  {
   "cell_type": "markdown",
   "metadata": {
    "id": "NhtQ2vt44tvd"
   },
   "source": [
    "As we can see our model is giving an accuracy of 88.58% on the testing data."
   ]
  },
  {
   "cell_type": "markdown",
   "metadata": {
    "id": "mWH8VZPmisqr"
   },
   "source": [
    "Now we are going to take a random review from our test dataset and check wether our model produces correct output or not"
   ]
  },
  {
   "cell_type": "code",
   "execution_count": 23,
   "metadata": {
    "colab": {
     "base_uri": "https://localhost:8080/"
    },
    "id": "FiqpYZu7ipTa",
    "outputId": "aff57399-fb6b-426a-820b-86a143e5752f"
   },
   "outputs": [
    {
     "name": "stdout",
     "output_type": "stream",
     "text": [
      "Reviews      <START not an easy film to like at first with ...\n",
      "Sentiment                                             positive\n",
      "Name: 437, dtype: object\n"
     ]
    }
   ],
   "source": [
    "index=np.random.randint(5,1000)\n",
    "user_review=test_reviews.loc[index]\n",
    "print(user_review)\n"
   ]
  },
  {
   "cell_type": "markdown",
   "metadata": {
    "id": "Ml5oNL-dj-Ix"
   },
   "source": [
    "As we can see the sentiment for the above review is positive, now we are going to take the integer format of this particular review which we already have in our preprocessed test data and then give it as an input to our model to check the prediction of our model."
   ]
  },
  {
   "cell_type": "code",
   "execution_count": 24,
   "metadata": {
    "colab": {
     "base_uri": "https://localhost:8080/"
    },
    "id": "JLJGmSkej9Jl",
    "outputId": "6cc03304-d42e-4247-adcd-6f96da3c5ee1"
   },
   "outputs": [
    {
     "name": "stdout",
     "output_type": "stream",
     "text": [
      "positive sentiment\n"
     ]
    }
   ],
   "source": [
    "user_review=test_data[index]\n",
    "user_review=np.array([user_review])\n",
    "if (model.predict(user_review)>0.5).astype(\"int32\"):\n",
    "  print(\"positive sentiment\")\n",
    "else:\n",
    "  print(\"negative sentiment\")\n"
   ]
  },
  {
   "cell_type": "markdown",
   "metadata": {
    "id": "rBfalQWOmg66"
   },
   "source": [
    "As we can see our model is now able to predict the sentiment of the review."
   ]
  }
 ],
 "metadata": {
  "colab": {
   "collapsed_sections": [],
   "name": "IMDB_sentiment_analysis_final",
   "provenance": [],
   "toc_visible": true
  },
  "kernelspec": {
   "display_name": "Python 3",
   "language": "python",
   "name": "python3"
  },
  "language_info": {
   "codemirror_mode": {
    "name": "ipython",
    "version": 3
   },
   "file_extension": ".py",
   "mimetype": "text/x-python",
   "name": "python",
   "nbconvert_exporter": "python",
   "pygments_lexer": "ipython3",
   "version": "3.9.7"
  }
 },
 "nbformat": 4,
 "nbformat_minor": 1
}
